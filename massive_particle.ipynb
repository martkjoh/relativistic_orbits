{
 "metadata": {
  "language_info": {
   "codemirror_mode": {
    "name": "ipython",
    "version": 3
   },
   "file_extension": ".py",
   "mimetype": "text/x-python",
   "name": "python",
   "nbconvert_exporter": "python",
   "pygments_lexer": "ipython3",
   "version": "3.8.3-final"
  },
  "orig_nbformat": 2,
  "kernelspec": {
   "name": "python_defaultSpec_1599844906934",
   "display_name": "Python 3.8.3 32-bit"
  }
 },
 "nbformat": 4,
 "nbformat_minor": 2,
 "cells": [
  {
   "cell_type": "markdown",
   "metadata": {},
   "source": [
    "# Relativistic orbit of massive particle\n",
    "\n",
    "** Martin Johnsrud **"
   ]
  },
  {
   "cell_type": "markdown",
   "metadata": {},
   "source": [
    "The metric for a massive point particle of mass M, the Schwarzschild metric, is\n",
    "\n",
    "$$\n",
    "    \\mathrm{d}s^2 = - \\bigg(1 - \\frac{2 M}{r} \\bigg) \\mathrm{d}t^2 + \\bigg(1 - \\frac{2 M}{r} \\bigg)^{-1} \\mathrm{d}r^2 + r^2 (\\mathrm{d} \\theta^2 + \\sin(\\theta) \\mathrm d \\phi^2) \n",
    "$$"
   ]
  },
  {
   "cell_type": "markdown",
   "metadata": {},
   "source": [
    "We can assume a particle moves in a plane $\\theta = \\pi / 2$, and that $\\dot \\theta = 0$. The two killing vector fields\n",
    "$$\n",
    "    \\xi ^\\mu = (1, 0, 0, 0), \\quad \\eta^\\mu = (0, 0, 0, 1)\n",
    "$$\n",
    "gives rise to the constants of motion\n",
    "\n",
    "$$\n",
    "    -\\xi \\cdot \\dot x = \\bigg(1 - \\frac{2 M}{r} \\bigg) \\frac{\\mathrm{d} t}{\\mathrm d {\\tau}} = e, \\quad \\eta \\cdot \\dot x = r^2 \\frac{\\mathrm{d} \\phi}{\\mathrm d {\\tau}} = \\ell.\n",
    "$$"
   ]
  },
  {
   "cell_type": "markdown",
   "metadata": {},
   "source": [
    "The last constant of motion is the normalization condition\n",
    "$$\n",
    "    u \\cdot u = \\mathrm{d}s^2 = - \\bigg(1 - \\frac{2 M}{r} \\bigg) \\bigg( \\frac{\\mathrm{d} t}{\\mathrm d {\\tau}} \\bigg)^2 \n",
    "    + \\bigg(1 - \\frac{2 M}{r} \\bigg)^{-1} \\bigg( \\frac{\\mathrm{d} r}{\\mathrm d {\\tau}} \\bigg)^2 \n",
    "    + r^2 \\bigg( \\frac{\\mathrm{d} \\phi}{\\mathrm d {\\tau}} \\bigg)^2 \n",
    "$$"
   ]
  },
  {
   "cell_type": "markdown",
   "metadata": {},
   "source": [
    "With these, we get the equation of motion for a massive (test) particel around a mass M:\n",
    "\n",
    "$$\n",
    "    \\dot r = \\sqrt{2(E - V(r))}, \\quad \\dot \\phi = \\frac{l}{r^2},\n",
    "$$\n",
    "Where E = (e - 1)/2 is the energy per unit mass of the test particle, and V is the effective potential,\n",
    "$$\n",
    "    V(r) = -\\frac M r + \\frac{\\ell^2}{2 r^2} - \\frac{M \\ell^2}{r^2}\n",
    "$$\n",
    "\n",
    "in this project, M is normalized to 1."
   ]
  },
  {
   "cell_type": "code",
   "execution_count": null,
   "metadata": {},
   "outputs": [],
   "source": [
    "import numpy as np\n",
    "from numpy import sqrt\n",
    "from matplotlib import pyplot as plt\n",
    "from matplotlib import cm\n",
    "\n",
    "font = {'family' : 'serif', \n",
    "        'weight' : 'normal', \n",
    "        'size'   : 14}\n",
    "plt.rcParams['mathtext.fontset'] = 'cm'\n",
    "plt.rc(\"lines\", lw=2)"
   ]
  },
  {
   "cell_type": "code",
   "execution_count": null,
   "metadata": {},
   "outputs": [],
   "source": [
    "def V(r, l):\n",
    "    return - 1 / r + l**2 / (2 * r**2) - l**2 / r**3"
   ]
  },
  {
   "cell_type": "code",
   "execution_count": null,
   "metadata": {},
   "outputs": [],
   "source": [
    "# Resolution in the radial direction\n",
    "n = 1000\n",
    "# Number of different angular momenta\n",
    "m = 11\n",
    "# Shcwarzschild radius\n",
    "Rs = 2\n",
    "\n",
    "Rmin = 0.99*Rs\n",
    "Rmax = 100\n",
    "lmin = 3\n",
    "lmax = 5\n",
    "\n",
    "r = np.linspace(Rmin, Rmax, n)\n",
    "l_vals = np.linspace(lmin, lmax, m)\n",
    "\n",
    "fig, ax = plt.subplots(figsize=(20, 10))\n",
    "\n",
    "for i, l in enumerate(l_vals):\n",
    "    ax.plot(r, V(r, l), color=cm.viridis(i / m), label=\"$\\ell = {:.2f}$\".format(l))\n",
    "\n",
    "ax.plot([0, Rmax], [0, 0], \"k--\")\n",
    "\n",
    "ax.set_ylim((-0.2, 0.2))\n",
    "plt.legend()\n",
    "plt.plot()"
   ]
  },
  {
   "cell_type": "markdown",
   "metadata": {},
   "source": [
    "The coordinates of the particle is a vector $v = (r(\\tau), \\phi(\\tau))$, so that the problem kan be written in Runge-Kutta form\n",
    "\n",
    "$$\n",
    "    \\frac{\\mathrm d v}{\\mathrm d \\theta } \\equiv \\dot v = f(v) = \\bigg(\\sqrt{2(E - V(r))},\\,  l / r^2 \\bigg)\n",
    "$$"
   ]
  },
  {
   "cell_type": "code",
   "execution_count": null,
   "metadata": {},
   "outputs": [],
   "source": [
    "def f(v):\n",
    "    return np.array([sqrt(2*(E, - V(r, l))), l / r**2])"
   ]
  },
  {
   "cell_type": "markdown",
   "metadata": {},
   "source": [
    "The path of the particle is so simulated by using the Runge-Kutta 4 integrator, with a eigen-time step `dt´."
   ]
  },
  {
   "cell_type": "code",
   "execution_count": null,
   "metadata": {},
   "outputs": [],
   "source": [
    "def RK4(v, i, l, E):\n",
    "    k1 = f(v[i]) * dt\n",
    "    k2 = f(v[i] + k1 / 2) * dt\n",
    "    k3 = f(v[i] + k2 / 2) * dt\n",
    "    k4 = f(v[i] + k3) * dt\n",
    "    delta = 1 / 6 * (k1 + 2 * k2 + 2 * k3 + k4)\n",
    "    v[i + 1]  = v[i] + delta"
   ]
  }
 ]
}